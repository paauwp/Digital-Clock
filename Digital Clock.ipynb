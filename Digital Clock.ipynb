{
 "cells": [
  {
   "cell_type": "code",
   "execution_count": 1,
   "metadata": {},
   "outputs": [],
   "source": [
    "from tkinter import *\n",
    "import time\n",
    "\n",
    "#Create Master Window\n",
    "master = Tk()\n",
    "master.geometry('600x200+350+300')\n",
    "master.title(\"Digital Clock by Pieter Paauw (Data2Wisdom) inpspired by Pydem\")\n",
    "\n",
    "timenow = ' '\n",
    "\n",
    "cframe = Frame(master, width=400, height=100, bg='orange', relief=GROOVE)\n",
    "cframe.pack()\n",
    "\n",
    "clock = Label(cframe, padx=25, pady=40, bd=3,fg='black', font=('arial',38, 'bold'), text= timenow, bg='light green', relief = SUNKEN)\n",
    "clock.pack()\n",
    "\n",
    "def tick():\n",
    "    global timenow\n",
    "    newtime = time.strftime('%H: %M: %S %p')\n",
    "    if newtime != timenow:\n",
    "        timenow = newtime\n",
    "        clock.config(text = timenow)\n",
    "    clock.after(200, tick)\n",
    "    \n",
    "tick()\n",
    "master.mainloop()\n"
   ]
  },
  {
   "cell_type": "code",
   "execution_count": null,
   "metadata": {},
   "outputs": [],
   "source": []
  }
 ],
 "metadata": {
  "kernelspec": {
   "display_name": "Python 3",
   "language": "python",
   "name": "python3"
  },
  "language_info": {
   "codemirror_mode": {
    "name": "ipython",
    "version": 3
   },
   "file_extension": ".py",
   "mimetype": "text/x-python",
   "name": "python",
   "nbconvert_exporter": "python",
   "pygments_lexer": "ipython3",
   "version": "3.7.3"
  }
 },
 "nbformat": 4,
 "nbformat_minor": 2
}
